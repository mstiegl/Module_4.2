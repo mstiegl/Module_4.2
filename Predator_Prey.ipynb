{
 "cells": [
  {
   "cell_type": "markdown",
   "metadata": {
    "collapsed": true
   },
   "source": [
    "# Lotka-Volterra Prey-Predator Model"
   ]
  },
  {
   "cell_type": "markdown",
   "metadata": {},
   "source": [
    "The Lotka–Volterra model makes a number of assumptions, not necessarily realistic in nature, about the environment and evolution of the predator and prey \n",
    "populations:\n",
    "\n",
    "-The prey population finds ample food at all times.\n",
    "\n",
    "-The food supply of the predator population depends entirely on the size of the \n",
    "prey population.\n",
    "\n",
    "-The rate of change of population is proportional to its size.\n",
    "\n",
    "-During the process, the environment does not change in favour of one species and genetic adaptation is inconsequential.\n",
    "\n",
    "-Predators have limitless appetite. \n"
   ]
  },
  {
   "cell_type": "heading",
   "metadata": {},
   "level": 2,
   "source": []
  },
  {
   "cell_type": "heading",
   "metadata": {},
   "level": 2,
   "source": []
  },
  {
   "cell_type": "markdown",
   "metadata": {},
   "source": [
    "# Mathematical Expression for the Prey Population"
   ]
  },
  {
   "cell_type": "markdown",
   "metadata": {
    "collapsed": true
   },
   "source": [
    "\n",
    "\n",
    "$${\\displaystyle {\\frac {ds}{dt}}=\\alpha s-\\beta sh~.}$$\n",
    "\n",
    "\n",
    "The prey are assumed to have an unlimited food supply, and to reproduce exponentially unless subject to predation; this exponential growth is represented in the equation above by the term αs, where α is prey's birth fraction, s is prey population.\n",
    "\n",
    "The rate of predation upon the prey is assumed to be proportional to the rate at \n",
    "which the predators and the prey meet; this is represented above by βsh, (β is prey's death fraction, h is predator's population). \n",
    "If either s or h is zero then there can be no predation.\n",
    "\n",
    "With these two terms the equation above can be interpreted as follows: the rate of change of the prey's population is given by its own growth rate minus the rate at which it is preyed upon."
   ]
  },
  {
   "cell_type": "markdown",
   "metadata": {},
   "source": [
    "# Mathematical Expression for Predator Population"
   ]
  },
  {
   "cell_type": "markdown",
   "metadata": {},
   "source": [
    "The predator equation becomes:\n",
    "\n",
    "$${\\displaystyle {\\frac {dh}{dt}}=\\delta sh-\\gamma h~.}$$\n",
    "\n",
    "In this equation, \n",
    "δsh represents the growth of the predator population, where δ is predator's birth fraction . (Note the similarity to the predation rate; however, a different \n",
    "constant is used as the rate at which the predator population grows is not \n",
    "necessarily equal to the rate at which it consumes the prey). \n",
    "γh represents the loss rate of the predators due to either natural death or emigration; it leads to an exponential decay in the absence of prey.\n",
    "\n",
    "Hence the equation expresses that the rate of change of the predator's population depends upon the rate at which it consumes prey, minus its death rate.\n",
    "\n"
   ]
  },
  {
   "cell_type": "markdown",
   "metadata": {},
   "source": [
    "# Initial Parameters and Equations for the algorithm"
   ]
  },
  {
   "cell_type": "markdown",
   "metadata": {},
   "source": [
    "predator_population=15 \n",
    "\n",
    "predator_birth_fraction = 0.01       #δ in predator population equation above\n",
    "\n",
    "predator_births = (predator_birth_fraction * prey_population) * (predator_population)\n",
    "\n",
    "predator_death_proportionality_constant = 1.06 #γ in predator population eqn. above\n",
    "\n",
    "predator_deaths = predator_death_proportionality_constant * (predator_population)\n",
    "\n",
    "prey_population(0) = 100 \n",
    "\n",
    "prey_birth_fraction = 2       #α in prey population eqn above\n",
    "\n",
    "prey_births = prey_birth_fraction * prey_population \n",
    "\n",
    "prey_death_proportionality_constant = 0.02 # β in prey population eqn above\n",
    "\n",
    "prey_deaths = (prey_death_proportionality_constant * predator_population) * prey_population\n",
    "\n",
    "Δt=0.001\n",
    "\n",
    "Simulation Length= 12 months\n"
   ]
  },
  {
   "cell_type": "markdown",
   "metadata": {},
   "source": [
    "# Code"
   ]
  },
  {
   "cell_type": "code",
   "execution_count": 9,
   "metadata": {},
   "outputs": [
    {
     "name": "stdout",
     "output_type": "stream",
     "text": [
      "Months\t\tPrey Population\t\tPredator Population\n\n  1.0\t\t449.58\t\t\t62.00\n\n\n  2.0\t\t30.43\t\t\t280.24\n\n\n  3.0\t\t 5.63\t\t\t108.55\n\n\n  4.0\t\t10.54\t\t\t40.32\n\n\n  5.0\t\t45.61\t\t\t17.59\n\n\n  6.0\t\t244.25\t\t\t19.97\n\n\n  7.0\t\t215.76\t\t\t298.60\n\n\n  8.0\t\t 7.91\t\t\t173.18\n\n\n  9.0\t\t 6.52\t\t\t63.69\n\n\n 10.0\t\t21.30\t\t\t24.81\n\n\n 11.0\t\t109.68\t\t\t14.61\n\n\n 12.0\t\t470.44\t\t\t74.28\n\n\n"
     ]
    }
   ],
   "source": [
    "import matplotlib.pyplot as plt\n",
    "predator_population= 15\n",
    "prey_population= 100\n",
    "predator_birth_fraction = 0.01\n",
    "predator_births = (predator_birth_fraction * prey_population) * predator_population\n",
    "predator_death_proportionality_constant = 1.06\n",
    "predator_deaths = predator_death_proportionality_constant * predator_population\n",
    "prey_birth_fraction = 2\n",
    "prey_births = prey_birth_fraction * prey_population\n",
    "prey_death_proportionality_constant = 0.02\n",
    "prey_deaths = (prey_death_proportionality_constant * predator_population)* prey_population\n",
    "t=0\n",
    "dt=0.001\n",
    "simLength=12\n",
    "numiterations=int(simLength/dt)+1\n",
    "timeLst=[t]\n",
    "predatorLst=[predator_population]\n",
    "preyLst=[prey_population]\n",
    "for i in range(1,numiterations):\n",
    "    t=i*dt\n",
    "    prey_population=prey_population+(prey_births-prey_deaths)*dt\n",
    "    predator_population=predator_population+(predator_births-predator_deaths)*dt\n",
    "    predator_births = (predator_birth_fraction * prey_population) * predator_population\n",
    "    predator_deaths = predator_death_proportionality_constant * predator_population\n",
    "    prey_births = prey_birth_fraction * prey_population\n",
    "    prey_deaths = (prey_death_proportionality_constant * predator_population) * prey_population\n",
    "    timeLst.append(t)\n",
    "    predatorLst.append(predator_population)\n",
    "    preyLst.append(prey_population)\n",
    "print('Months\\t\\tPrey Population\\t\\tPredator Population\\n')\n",
    "for i in range(1,13):\n",
    "    print('%5.1f\\t\\t%5.2f\\t\\t\\t%5.2f\\n\\n' %(timeLst[i*1000],preyLst[i*1000],predatorLst[i*1000]))\n",
    "plt.plot(timeLst,preyLst, color='blue')\n",
    "plt.text(2,450,'Prey(squirrel)',color='blue')\n",
    "plt.plot(timeLst,predatorLst,color='red')\n",
    "plt.text(2.5,300,'Predator(hawk)',color='red')\n",
    "plt.xlabel('Months')\n",
    "plt.title('Prey-Predator Model: Graph of Squirrel and Hawk populations versus time in months')\n",
    "plt.show()\n"
   ]
  },
  {
   "cell_type": "code",
   "execution_count": null,
   "metadata": {},
   "outputs": [],
   "source": []
  }
 ],
 "metadata": {
  "kernelspec": {
   "display_name": "Python 2",
   "language": "python",
   "name": "python2"
  },
  "language_info": {
   "codemirror_mode": {
    "name": "ipython",
    "version": 2
   },
   "file_extension": ".py",
   "mimetype": "text/x-python",
   "name": "python",
   "nbconvert_exporter": "python",
   "pygments_lexer": "ipython2",
   "version": "2.7.6"
  }
 },
 "nbformat": 4,
 "nbformat_minor": 0
}
